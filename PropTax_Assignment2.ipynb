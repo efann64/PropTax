{
 "cells": [
  {
   "cell_type": "code",
   "execution_count": 1,
   "metadata": {},
   "outputs": [],
   "source": [
    "#add arcpy in when Andres updates validation for my account\n",
    "import pandas as pd"
   ]
  },
  {
   "cell_type": "code",
   "execution_count": 2,
   "metadata": {},
   "outputs": [
    {
     "data": {
      "text/html": [
       "<div>\n",
       "<style scoped>\n",
       "    .dataframe tbody tr th:only-of-type {\n",
       "        vertical-align: middle;\n",
       "    }\n",
       "\n",
       "    .dataframe tbody tr th {\n",
       "        vertical-align: top;\n",
       "    }\n",
       "\n",
       "    .dataframe thead th {\n",
       "        text-align: right;\n",
       "    }\n",
       "</style>\n",
       "<table border=\"1\" class=\"dataframe\">\n",
       "  <thead>\n",
       "    <tr style=\"text-align: right;\">\n",
       "      <th></th>\n",
       "      <th>Year</th>\n",
       "      <th>Account_Number</th>\n",
       "      <th>Record_Type</th>\n",
       "      <th>Name</th>\n",
       "      <th>Address</th>\n",
       "      <th>City</th>\n",
       "      <th>State</th>\n",
       "    </tr>\n",
       "  </thead>\n",
       "  <tbody>\n",
       "    <tr>\n",
       "      <th>0</th>\n",
       "      <td>2020</td>\n",
       "      <td>151</td>\n",
       "      <td>AAAA</td>\n",
       "      <td>City of Fort Worth</td>\n",
       "      <td>200 Texas St</td>\n",
       "      <td>Fort Worth</td>\n",
       "      <td>TX</td>\n",
       "    </tr>\n",
       "    <tr>\n",
       "      <th>1</th>\n",
       "      <td>2020</td>\n",
       "      <td>152</td>\n",
       "      <td>AAAA</td>\n",
       "      <td>City of Fort Worth</td>\n",
       "      <td>204 Texas St</td>\n",
       "      <td>Fort Worth</td>\n",
       "      <td>TX</td>\n",
       "    </tr>\n",
       "    <tr>\n",
       "      <th>2</th>\n",
       "      <td>2020</td>\n",
       "      <td>161</td>\n",
       "      <td>AAAA</td>\n",
       "      <td>City of Fort Worth</td>\n",
       "      <td>201 Texas St</td>\n",
       "      <td>Fort Worth</td>\n",
       "      <td>TX</td>\n",
       "    </tr>\n",
       "    <tr>\n",
       "      <th>3</th>\n",
       "      <td>2018</td>\n",
       "      <td>162</td>\n",
       "      <td>AAAA</td>\n",
       "      <td>City of Fort Worth</td>\n",
       "      <td>220 Texas St</td>\n",
       "      <td>Fort Worth</td>\n",
       "      <td>TX</td>\n",
       "    </tr>\n",
       "    <tr>\n",
       "      <th>4</th>\n",
       "      <td>2020</td>\n",
       "      <td>154</td>\n",
       "      <td>AAAA</td>\n",
       "      <td>City of Fort Worth</td>\n",
       "      <td>200 Texas St</td>\n",
       "      <td>Fort Worth</td>\n",
       "      <td>TX</td>\n",
       "    </tr>\n",
       "  </tbody>\n",
       "</table>\n",
       "</div>"
      ],
      "text/plain": [
       "   Year   Account_Number  Record_Type                 Name        Address  \\\n",
       "0  2020              151         AAAA   City of Fort Worth   200 Texas St   \n",
       "1  2020              152         AAAA   City of Fort Worth   204 Texas St   \n",
       "2  2020              161         AAAA   City of Fort Worth   201 Texas St   \n",
       "3  2018              162         AAAA   City of Fort Worth   220 Texas St   \n",
       "4  2020              154         AAAA   City of Fort Worth   200 Texas St   \n",
       "\n",
       "          City  State  \n",
       "0   Fort Worth     TX  \n",
       "1   Fort Worth     TX  \n",
       "2   Fort Worth     TX  \n",
       "3   Fort Worth     TX  \n",
       "4   Fort Worth     TX  "
      ]
     },
     "execution_count": 2,
     "metadata": {},
     "output_type": "execute_result"
    }
   ],
   "source": [
    "#I used a | instead of a , because it looked like that was what was seperating the data, the comma squished the data to the right side\n",
    "df = pd.read_csv(r\"C:\\Users\\efann\\PROPERTY TAX\\Assignment2_cityrecords.txt\", sep =\"|\")\n",
    "df.head()"
   ]
  },
  {
   "cell_type": "code",
   "execution_count": null,
   "metadata": {},
   "outputs": [],
   "source": []
  }
 ],
 "metadata": {
  "kernelspec": {
   "display_name": "Python 3",
   "language": "python",
   "name": "python3"
  },
  "language_info": {
   "codemirror_mode": {
    "name": "ipython",
    "version": 3
   },
   "file_extension": ".py",
   "mimetype": "text/x-python",
   "name": "python",
   "nbconvert_exporter": "python",
   "pygments_lexer": "ipython3",
   "version": "3.7.9"
  }
 },
 "nbformat": 4,
 "nbformat_minor": 4
}
