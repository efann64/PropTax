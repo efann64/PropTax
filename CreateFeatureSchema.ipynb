{
 "cells": [
  {
   "cell_type": "code",
   "execution_count": 1,
   "metadata": {},
   "outputs": [],
   "source": [
    "import arcpy\n",
    "\n",
    "arcpy.env.workspace = r\"C:\\Users\\efann\\Documents\\ArcGIS\\Projects\\PropTax\\PropTax.gdb\""
   ]
  },
  {
   "cell_type": "code",
   "execution_count": 2,
   "metadata": {},
   "outputs": [],
   "source": [
    "#workspace refers to geodatabase\n",
    "workspace = arcpy.env.workspace\n",
    "\n",
    "#output refers to the new feature class we made and is where we want the output to go\n",
    "output = \"TADParcelsFeatureSchema2\"\n",
    "\n",
    "#geometry shape refers to the parcels themselves as a shape\n",
    "geometry_type = \"POLYGON\"\n",
    "\n",
    "#This is the original feature class that we removed the join from to get a blank parcel map\n",
    "template = \"TADParcels\"\n",
    "\n",
    "#measurement variables usually disabled by default\n",
    "has_m = \"DISABLED\"\n",
    "has_z = \"DISABLED\"\n",
    "\n",
    "#spatial ref comes from TADParcels\n",
    "spatial_ref =arcpy.Describe(\"TADParcels\").spatialReference"
   ]
  },
  {
   "cell_type": "code",
   "execution_count": 3,
   "metadata": {},
   "outputs": [
    {
     "data": {
      "text/html": [
       "<h2>Output</h2>C:\\Users\\efann\\Documents\\ArcGIS\\Projects\\PropTax\\PropTax.gdb\\TADParcelsFeatureSchema2<h2>Messages</h2>Start Time: Monday, May 31, 2021 7:48:19 PM<br/>Succeeded at Monday, May 31, 2021 7:48:19 PM (Elapsed Time: 0.40 seconds)<br/><style>.rendered_html td, .rendered_html th {text-align: left;}.rendered_html tbody {border: 1px solid black;}</style>"
      ],
      "text/plain": [
       "<Result 'C:\\\\Users\\\\efann\\\\Documents\\\\ArcGIS\\\\Projects\\\\PropTax\\\\PropTax.gdb\\\\TADParcelsFeatureSchema2'>"
      ]
     },
     "execution_count": 3,
     "metadata": {},
     "output_type": "execute_result"
    }
   ],
   "source": [
    "#using the variables that we defined in the cell above\n",
    "arcpy.CreateFeatureclass_management(workspace, output, geometry_type, template, has_m, has_z, spatial_ref)"
   ]
  },
  {
   "cell_type": "code",
   "execution_count": null,
   "metadata": {},
   "outputs": [],
   "source": []
  }
 ],
 "metadata": {
  "kernelspec": {
   "display_name": "Python 3",
   "language": "python",
   "name": "python3"
  },
  "language_info": {
   "codemirror_mode": {
    "name": "ipython",
    "version": 3
   },
   "file_extension": ".py",
   "mimetype": "text/x-python",
   "name": "python",
   "nbconvert_exporter": "python",
   "pygments_lexer": "ipython3",
   "version": "3.7.9"
  }
 },
 "nbformat": 4,
 "nbformat_minor": 4
}
